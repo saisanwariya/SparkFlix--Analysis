{
 "cells": [
  {
   "cell_type": "markdown",
   "metadata": {},
   "source": [
    "<h1><center>SparkFlix Analytics: Exploring Movie Reviews with PySpark and SQL </center></h1>\n",
    "\n",
    "# Sai Sanwariya Narayan\n",
    "\n",
    "## The goals of this project is:\n",
    "### - Use Data Frames in Spark for Processing Structured Data\n",
    "### - Perform Basic DataFrame Transformations such as filtering rows and selecting columns of DataFrame\n",
    "### - Create New Columns of DataFrame using `withColumn`\n",
    "### - Use DF SQL Functions to transform a string into an Array\n",
    "### - Filter on a DF Column that is an Array using `array_contains`\n",
    "### - Perform Join operations on DataFrames \n",
    "### - Use groupBy, followed by count and sum DF transformation to calculate the count and the sum of a DF column (e.g., reviews) for each group (e.g., movie).\n",
    "### - Perform sorting on a DataFrame column\n",
    "### - Apply the obove to find Movies in a Genre of your choice that has good reviews with a significant number of ratings (use 10 as the threshold for local mode, 100 as the threshold for cluster mode).\n",
    "### - After completing all exercises in the Notebook, convert the code for processing large reviews dataset and large movies dataset to find movies with top average ranking with at least 100 reviews for a genre of comedy."
   ]
  },
  {
   "cell_type": "markdown",
   "metadata": {},
   "source": [
    "## Importing pyspark first."
   ]
  },
  {
   "cell_type": "code",
   "execution_count": 1,
   "metadata": {},
   "outputs": [],
   "source": [
    "import pyspark"
   ]
  },
  {
   "cell_type": "markdown",
   "metadata": {},
   "source": [
    "### Once we import pyspark, we need to import \"SparkContext\".  Every spark program needs a SparkContext object\n",
    "### In order to use Spark SQL on DataFrames, we also need to import SparkSession from PySpark.SQL"
   ]
  },
  {
   "cell_type": "code",
   "execution_count": 2,
   "metadata": {},
   "outputs": [],
   "source": [
    "from pyspark import SparkContext\n",
    "from pyspark.sql import SparkSession\n",
    "from pyspark.sql.types import StructField, StructType, StringType, LongType, IntegerType, FloatType\n",
    "from pyspark.sql.functions import col, column\n",
    "from pyspark.sql.functions import expr\n",
    "from pyspark.sql.functions import split\n",
    "from pyspark.sql import Row"
   ]
  },
  {
   "cell_type": "markdown",
   "metadata": {},
   "source": [
    "## We then create a Spark Session variable (rather than Spark Context) in order to use DataFrame. "
   ]
  },
  {
   "cell_type": "code",
   "execution_count": 3,
   "metadata": {},
   "outputs": [],
   "source": [
    "ss=SparkSession.builder.master(\"local\").appName(\"Lab 5 Top Reviews\").getOrCreate()"
   ]
  },
  {
   "cell_type": "code",
   "execution_count": 4,
   "metadata": {},
   "outputs": [],
   "source": [
    "ss.sparkContext.setCheckpointDir(\"~/scratch\")"
   ]
  },
  {
   "cell_type": "code",
   "execution_count": 5,
   "metadata": {},
   "outputs": [],
   "source": [
    "rating_schema = StructType([ StructField(\"UserID\", IntegerType(), False ), \\\n",
    "                            StructField(\"MovieID\", IntegerType(), True), \\\n",
    "                            StructField(\"Rating\", FloatType(), True ), \\\n",
    "                            StructField(\"RatingID\", IntegerType(), True ), \\\n",
    "                           ])"
   ]
  },
  {
   "cell_type": "code",
   "execution_count": 6,
   "metadata": {},
   "outputs": [],
   "source": [
    "ratings_DF = ss.read.csv(\"/storage/home/ratings_2.csv\", schema= rating_schema, header=True, inferSchema=False)\n",
    "# In the cluster mode, we need to change to  `header=False` because it does not have header."
   ]
  },
  {
   "cell_type": "code",
   "execution_count": 7,
   "metadata": {},
   "outputs": [],
   "source": [
    "movie_schema = StructType([ StructField(\"MovieID\", IntegerType(), False), \\\n",
    "                            StructField(\"MovieTitle\", StringType(), True ), \\\n",
    "                            StructField(\"Genres\", StringType(), True ), \\\n",
    "                           ])"
   ]
  },
  {
   "cell_type": "code",
   "execution_count": 8,
   "metadata": {},
   "outputs": [],
   "source": [
    "movies_DF = ss.read.csv(\"/storage/home/movies_2.csv\", schema=movie_schema, header=True, inferSchema=False)\n",
    "# In the cluster mode, we need to change to `header=False` because it does not have header."
   ]
  },
  {
   "cell_type": "code",
   "execution_count": 9,
   "metadata": {},
   "outputs": [
    {
     "name": "stdout",
     "output_type": "stream",
     "text": [
      "root\n",
      " |-- MovieID: integer (nullable = true)\n",
      " |-- MovieTitle: string (nullable = true)\n",
      " |-- Genres: string (nullable = true)\n",
      "\n"
     ]
    }
   ],
   "source": [
    "movies_DF.printSchema()"
   ]
  },
  {
   "cell_type": "code",
   "execution_count": 10,
   "metadata": {},
   "outputs": [
    {
     "name": "stdout",
     "output_type": "stream",
     "text": [
      "+-------+--------------------+--------------------+\n",
      "|MovieID|          MovieTitle|              Genres|\n",
      "+-------+--------------------+--------------------+\n",
      "|      1|    Toy Story (1995)|Adventure|Animati...|\n",
      "|      2|      Jumanji (1995)|Adventure|Childre...|\n",
      "|      3|Grumpier Old Men ...|      Comedy|Romance|\n",
      "|      4|Waiting to Exhale...|Comedy|Drama|Romance|\n",
      "|      5|Father of the Bri...|              Comedy|\n",
      "|      6|         Heat (1995)|Action|Crime|Thri...|\n",
      "|      7|      Sabrina (1995)|      Comedy|Romance|\n",
      "|      8| Tom and Huck (1995)|  Adventure|Children|\n",
      "|      9| Sudden Death (1995)|              Action|\n",
      "|     10|    GoldenEye (1995)|Action|Adventure|...|\n",
      "+-------+--------------------+--------------------+\n",
      "only showing top 10 rows\n",
      "\n"
     ]
    }
   ],
   "source": [
    "movies_DF.show(10)"
   ]
  },
  {
   "cell_type": "code",
   "execution_count": 11,
   "metadata": {},
   "outputs": [],
   "source": [
    "movies_genres_DF = movies_DF.select(\"MovieID\",\"Genres\")"
   ]
  },
  {
   "cell_type": "code",
   "execution_count": 12,
   "metadata": {},
   "outputs": [],
   "source": [
    "movies_genres_rdd = movies_genres_DF.rdd"
   ]
  },
  {
   "cell_type": "code",
   "execution_count": 13,
   "metadata": {},
   "outputs": [
    {
     "data": {
      "text/plain": [
       "[Row(MovieID=1, Genres='Adventure|Animation|Children|Comedy|Fantasy'),\n",
       " Row(MovieID=2, Genres='Adventure|Children|Fantasy'),\n",
       " Row(MovieID=3, Genres='Comedy|Romance')]"
      ]
     },
     "execution_count": 13,
     "metadata": {},
     "output_type": "execute_result"
    }
   ],
   "source": [
    "movies_genres_rdd.take(3)"
   ]
  },
  {
   "cell_type": "code",
   "execution_count": 14,
   "metadata": {},
   "outputs": [],
   "source": [
    "movies_genres2_rdd = movies_genres_rdd.flatMap(lambda x: x['Genres'].split('|'))"
   ]
  },
  {
   "cell_type": "code",
   "execution_count": 15,
   "metadata": {},
   "outputs": [
    {
     "data": {
      "text/plain": [
       "['Adventure', 'Animation', 'Children']"
      ]
     },
     "execution_count": 15,
     "metadata": {},
     "output_type": "execute_result"
    }
   ],
   "source": [
    "movies_genres2_rdd.take(3)"
   ]
  },
  {
   "cell_type": "code",
   "execution_count": 16,
   "metadata": {},
   "outputs": [],
   "source": [
    "movies_genres3_rdd = movies_genres2_rdd.map(lambda x: (x, 1))"
   ]
  },
  {
   "cell_type": "code",
   "execution_count": 17,
   "metadata": {},
   "outputs": [],
   "source": [
    "movies_genres_count_rdd = movies_genres3_rdd.reduceByKey(lambda x, y: x+y)"
   ]
  },
  {
   "cell_type": "code",
   "execution_count": 18,
   "metadata": {},
   "outputs": [
    {
     "data": {
      "text/plain": [
       "[('Adventure', 1117),\n",
       " ('Animation', 447),\n",
       " ('Children', 583),\n",
       " ('Comedy', 3315),\n",
       " ('Fantasy', 654),\n",
       " ('Romance', 1545),\n",
       " ('Drama', 4365),\n",
       " ('Action', 1545),\n",
       " ('Crime', 1100),\n",
       " ('Thriller', 1729)]"
      ]
     },
     "execution_count": 18,
     "metadata": {},
     "output_type": "execute_result"
    }
   ],
   "source": [
    "movies_genres_count_rdd.take(10)"
   ]
  },
  {
   "cell_type": "code",
   "execution_count": 19,
   "metadata": {},
   "outputs": [],
   "source": [
    "movies_genres_count_rdd.saveAsTextFile(\"/storage/home/MovieGenres_count.txt\")"
   ]
  },
  {
   "cell_type": "code",
   "execution_count": 20,
   "metadata": {},
   "outputs": [
    {
     "name": "stdout",
     "output_type": "stream",
     "text": [
      "root\n",
      " |-- UserID: integer (nullable = true)\n",
      " |-- MovieID: integer (nullable = true)\n",
      " |-- Rating: float (nullable = true)\n",
      " |-- RatingID: integer (nullable = true)\n",
      "\n"
     ]
    }
   ],
   "source": [
    "ratings_DF.printSchema()"
   ]
  },
  {
   "cell_type": "code",
   "execution_count": 21,
   "metadata": {},
   "outputs": [
    {
     "name": "stdout",
     "output_type": "stream",
     "text": [
      "+------+-------+------+----------+\n",
      "|UserID|MovieID|Rating|  RatingID|\n",
      "+------+-------+------+----------+\n",
      "|     1|     31|   2.5|1260759144|\n",
      "|     1|   1029|   3.0|1260759179|\n",
      "|     1|   1061|   3.0|1260759182|\n",
      "|     1|   1129|   2.0|1260759185|\n",
      "|     1|   1172|   4.0|1260759205|\n",
      "+------+-------+------+----------+\n",
      "only showing top 5 rows\n",
      "\n"
     ]
    }
   ],
   "source": [
    "ratings_DF.show(5)"
   ]
  },
  {
   "cell_type": "markdown",
   "metadata": {
    "jupyter": {
     "outputs_hidden": true
    }
   },
   "source": [
    "# 2. DataFrames Transformations\n",
    "DataFrame in Spark provides higher-level transformations that are convenient for selecting rows, columns, and for creating new columns.  These transformations are part of Spark SQL.\n",
    "\n",
    "## 2.1 `where` DF Transformation for Filtering/Selecting Rows\n",
    "Select rows from a DataFrame (DF) that satisfy a condition.  This is similar to \"WHERE\" clause in SQL query language.\n",
    "- One important difference (compared to SQL) is we need to add `col( ...)` when referring to a column name. \n",
    "- The condition inside `where` transformation can be an equality test, `>` test, or '<' test, as illustrated below."
   ]
  },
  {
   "cell_type": "markdown",
   "metadata": {},
   "source": [
    "# `show` DF action\n",
    "The `show` DF action is similar to `take` RDD action. It takes a number as a parameter, which is the number of elements to be randomly selected from the DF to be displayed."
   ]
  },
  {
   "cell_type": "code",
   "execution_count": 22,
   "metadata": {},
   "outputs": [
    {
     "name": "stdout",
     "output_type": "stream",
     "text": [
      "+-------+----------------+--------------------+\n",
      "|MovieID|      MovieTitle|              Genres|\n",
      "+-------+----------------+--------------------+\n",
      "|      1|Toy Story (1995)|Adventure|Animati...|\n",
      "+-------+----------------+--------------------+\n",
      "\n"
     ]
    }
   ],
   "source": [
    "movies_DF.where(movies_DF[\"MovieTitle\"] == \"Toy Story (1995)\").show()"
   ]
  },
  {
   "cell_type": "code",
   "execution_count": 23,
   "metadata": {},
   "outputs": [
    {
     "name": "stdout",
     "output_type": "stream",
     "text": [
      "+------+-------+------+----------+\n",
      "|UserID|MovieID|Rating|  RatingID|\n",
      "+------+-------+------+----------+\n",
      "|     1|   1172|   4.0|1260759205|\n",
      "|     1|   1339|   3.5|1260759125|\n",
      "|     1|   1953|   4.0|1260759191|\n",
      "|     1|   2105|   4.0|1260759139|\n",
      "|     2|     10|   4.0| 835355493|\n",
      "+------+-------+------+----------+\n",
      "only showing top 5 rows\n",
      "\n"
     ]
    }
   ],
   "source": [
    "ratings_DF.where(ratings_DF[\"Rating\"] > 3).show(5)"
   ]
  },
  {
   "cell_type": "markdown",
   "metadata": {},
   "source": [
    "# `count` DF action\n",
    "The `count` action returns the total number of elements in the input DataFrame."
   ]
  },
  {
   "cell_type": "code",
   "execution_count": 24,
   "metadata": {},
   "outputs": [
    {
     "data": {
      "text/plain": [
       "22818"
      ]
     },
     "execution_count": 24,
     "metadata": {},
     "output_type": "execute_result"
    }
   ],
   "source": [
    "ratings_DF.filter(4 < ratings_DF[\"Rating\"]).count()"
   ]
  },
  {
   "cell_type": "markdown",
   "metadata": {},
   "source": [
    "# Filtering DF Rows"
   ]
  },
  {
   "cell_type": "code",
   "execution_count": 25,
   "metadata": {},
   "outputs": [
    {
     "name": "stdout",
     "output_type": "stream",
     "text": [
      "15095\n"
     ]
    }
   ],
   "source": [
    "review_5_count = ratings_DF.where(5 == col(\"Rating\")).count()\n",
    "print(review_5_count)"
   ]
  },
  {
   "cell_type": "markdown",
   "metadata": {},
   "source": [
    "# DataFrame Transformation for Selecting Columns\n",
    "\n",
    "DataFrame transformation `select` is similar to the projection operation in SQL: it returns a DataFrame that contains all of the columns selected."
   ]
  },
  {
   "cell_type": "code",
   "execution_count": 26,
   "metadata": {},
   "outputs": [
    {
     "name": "stdout",
     "output_type": "stream",
     "text": [
      "+--------------------+\n",
      "|          MovieTitle|\n",
      "+--------------------+\n",
      "|    Toy Story (1995)|\n",
      "|      Jumanji (1995)|\n",
      "|Grumpier Old Men ...|\n",
      "|Waiting to Exhale...|\n",
      "|Father of the Bri...|\n",
      "+--------------------+\n",
      "only showing top 5 rows\n",
      "\n"
     ]
    }
   ],
   "source": [
    "movies_DF.select(\"MovieTitle\").show(5)"
   ]
  },
  {
   "cell_type": "code",
   "execution_count": 27,
   "metadata": {},
   "outputs": [
    {
     "name": "stdout",
     "output_type": "stream",
     "text": [
      "+--------------------+\n",
      "|          MovieTitle|\n",
      "+--------------------+\n",
      "|    Toy Story (1995)|\n",
      "|      Jumanji (1995)|\n",
      "|Grumpier Old Men ...|\n",
      "|Waiting to Exhale...|\n",
      "|Father of the Bri...|\n",
      "+--------------------+\n",
      "only showing top 5 rows\n",
      "\n"
     ]
    }
   ],
   "source": [
    "movies_DF.select(col(\"MovieTitle\")).show(5)"
   ]
  },
  {
   "cell_type": "markdown",
   "metadata": {},
   "source": [
    "# Selecting DF Columns"
   ]
  },
  {
   "cell_type": "code",
   "execution_count": 28,
   "metadata": {},
   "outputs": [],
   "source": [
    "movie_rating_DF = ratings_DF.select(col(\"MovieID\"),col(\"Rating\"))"
   ]
  },
  {
   "cell_type": "code",
   "execution_count": 29,
   "metadata": {},
   "outputs": [
    {
     "name": "stdout",
     "output_type": "stream",
     "text": [
      "+-------+------+\n",
      "|MovieID|Rating|\n",
      "+-------+------+\n",
      "|     31|   2.5|\n",
      "|   1029|   3.0|\n",
      "|   1061|   3.0|\n",
      "|   1129|   2.0|\n",
      "|   1172|   4.0|\n",
      "+-------+------+\n",
      "only showing top 5 rows\n",
      "\n"
     ]
    }
   ],
   "source": [
    "movie_rating_DF.show(5)"
   ]
  },
  {
   "cell_type": "markdown",
   "metadata": {},
   "source": [
    "# Statistical Summary of Numerical Columns\n",
    "DataFrame provides a `describe` method that provides a summary of basic statistical information (e.g., count, mean, standard deviation, min, max) for numerical columns."
   ]
  },
  {
   "cell_type": "code",
   "execution_count": 30,
   "metadata": {},
   "outputs": [
    {
     "name": "stdout",
     "output_type": "stream",
     "text": [
      "+-------+------------------+------------------+------------------+--------------------+\n",
      "|summary|            UserID|           MovieID|            Rating|            RatingID|\n",
      "+-------+------------------+------------------+------------------+--------------------+\n",
      "|  count|            100004|            100004|            100004|              100004|\n",
      "|   mean| 347.0113095476181|12548.664363425463| 3.543608255669773|1.1296390869392424E9|\n",
      "| stddev|195.16383797819535|26369.198968815268|1.0580641091070326|1.9168582602710962E8|\n",
      "|    min|                 1|                 1|               0.5|           789652009|\n",
      "|    max|               671|            163949|               5.0|          1476640644|\n",
      "+-------+------------------+------------------+------------------+--------------------+\n",
      "\n"
     ]
    }
   ],
   "source": [
    "ratings_DF.describe().show()"
   ]
  },
  {
   "cell_type": "markdown",
   "metadata": {},
   "source": [
    "## RDD has a histogram method to compute the total number of rows in each \"bucket\".\n",
    "The code below selects the Rating column from `ratings_DF`, converts it to an RDD, which maps to extract the rating value for each row, which is used to compute the total number of reviews in 5 buckets."
   ]
  },
  {
   "cell_type": "code",
   "execution_count": 31,
   "metadata": {},
   "outputs": [
    {
     "data": {
      "text/plain": [
       "([0, 1, 2, 3, 4, 5, 6], [1101, 5013, 11720, 30602, 36473, 15095])"
      ]
     },
     "execution_count": 31,
     "metadata": {},
     "output_type": "execute_result"
    }
   ],
   "source": [
    "ratings_DF.select(col(\"Rating\")).rdd.map(lambda row: row[0]).histogram([0,1,2,3,4,5,6])"
   ]
  },
  {
   "cell_type": "markdown",
   "metadata": {
    "jupyter": {
     "outputs_hidden": true
    }
   },
   "source": [
    "# Transforming the Generes Column into Array of Generes \n",
    "## We want transform a column Generes, which represent all Generes of a movie using a string that uses \"|\" to connect the Generes so that we can later filter for movies of a Genere more efficiently.\n",
    "## This transformation can be done using `split` Spark SQL function (which is different from python `split` function)"
   ]
  },
  {
   "cell_type": "code",
   "execution_count": 32,
   "metadata": {},
   "outputs": [
    {
     "name": "stdout",
     "output_type": "stream",
     "text": [
      "+---------------------+\n",
      "|split(Genres, \\|, -1)|\n",
      "+---------------------+\n",
      "| [Adventure, Anima...|\n",
      "| [Adventure, Child...|\n",
      "|    [Comedy, Romance]|\n",
      "| [Comedy, Drama, R...|\n",
      "|             [Comedy]|\n",
      "+---------------------+\n",
      "only showing top 5 rows\n",
      "\n"
     ]
    }
   ],
   "source": [
    "Splitted_Generes_DF= movies_DF.select(split(col(\"Genres\"), '\\|'))\n",
    "Splitted_Generes_DF.show(5)"
   ]
  },
  {
   "cell_type": "markdown",
   "metadata": {},
   "source": [
    "## Adding a Column to a DataFrame using withColumn\n",
    "\n",
    "# `withColumn` DF Transformation\n",
    "\n",
    "We often need to transform content of a column into another column. For example, it is desirable to transform the column Genres in the movies DataFrame into an `Array` of genres that each movie belongs, we can do this using the DataFrame method `withColumn`."
   ]
  },
  {
   "cell_type": "markdown",
   "metadata": {},
   "source": [
    "### Creates a new column called \"Genres_Array\", whose values are arrays of genres for each movie, obtained by splitting the column value of \"Genres\" for each row (movie)."
   ]
  },
  {
   "cell_type": "code",
   "execution_count": 33,
   "metadata": {},
   "outputs": [],
   "source": [
    "moviesG2_DF= movies_DF.withColumn(\"Genres_Array\",split(\"Genres\", '\\|') )"
   ]
  },
  {
   "cell_type": "code",
   "execution_count": 34,
   "metadata": {},
   "outputs": [
    {
     "name": "stdout",
     "output_type": "stream",
     "text": [
      "root\n",
      " |-- MovieID: integer (nullable = true)\n",
      " |-- MovieTitle: string (nullable = true)\n",
      " |-- Genres: string (nullable = true)\n",
      " |-- Genres_Array: array (nullable = true)\n",
      " |    |-- element: string (containsNull = false)\n",
      "\n"
     ]
    }
   ],
   "source": [
    "moviesG2_DF.printSchema()"
   ]
  },
  {
   "cell_type": "code",
   "execution_count": 35,
   "metadata": {},
   "outputs": [
    {
     "name": "stdout",
     "output_type": "stream",
     "text": [
      "+-------+--------------------+--------------------+--------------------+\n",
      "|MovieID|          MovieTitle|              Genres|        Genres_Array|\n",
      "+-------+--------------------+--------------------+--------------------+\n",
      "|      1|    Toy Story (1995)|Adventure|Animati...|[Adventure, Anima...|\n",
      "|      2|      Jumanji (1995)|Adventure|Childre...|[Adventure, Child...|\n",
      "|      3|Grumpier Old Men ...|      Comedy|Romance|   [Comedy, Romance]|\n",
      "|      4|Waiting to Exhale...|Comedy|Drama|Romance|[Comedy, Drama, R...|\n",
      "|      5|Father of the Bri...|              Comedy|            [Comedy]|\n",
      "+-------+--------------------+--------------------+--------------------+\n",
      "only showing top 5 rows\n",
      "\n"
     ]
    }
   ],
   "source": [
    "moviesG2_DF.show(5)"
   ]
  },
  {
   "cell_type": "markdown",
   "metadata": {},
   "source": [
    "# Choosing Comedy as Genre"
   ]
  },
  {
   "cell_type": "code",
   "execution_count": 36,
   "metadata": {},
   "outputs": [],
   "source": [
    "from pyspark.sql.functions import array_contains\n",
    "movies_your_genre_DF = moviesG2_DF.filter(array_contains(moviesG2_DF[\"Genres_Array\"], \"Comedy\" ))"
   ]
  },
  {
   "cell_type": "code",
   "execution_count": 37,
   "metadata": {},
   "outputs": [
    {
     "name": "stdout",
     "output_type": "stream",
     "text": [
      "+-------+--------------------+--------------------+--------------------+\n",
      "|MovieID|          MovieTitle|              Genres|        Genres_Array|\n",
      "+-------+--------------------+--------------------+--------------------+\n",
      "|      1|    Toy Story (1995)|Adventure|Animati...|[Adventure, Anima...|\n",
      "|      3|Grumpier Old Men ...|      Comedy|Romance|   [Comedy, Romance]|\n",
      "|      4|Waiting to Exhale...|Comedy|Drama|Romance|[Comedy, Drama, R...|\n",
      "|      5|Father of the Bri...|              Comedy|            [Comedy]|\n",
      "|      7|      Sabrina (1995)|      Comedy|Romance|   [Comedy, Romance]|\n",
      "+-------+--------------------+--------------------+--------------------+\n",
      "only showing top 5 rows\n",
      "\n"
     ]
    }
   ],
   "source": [
    "movies_your_genre_DF.show(5)"
   ]
  },
  {
   "cell_type": "markdown",
   "metadata": {},
   "source": [
    "# An DF-based approach to compute Average Movie Ratings and Total Count of Reviews for each movie."
   ]
  },
  {
   "cell_type": "markdown",
   "metadata": {},
   "source": [
    "# `groupBy` DF transformation\n",
    "Takes a column name (string) as the parameter, the transformation groups rows of the DF based on the column.  All rows with the same value for the column is grouped together.  The result of groupBy transformation is often folled by an aggregation across all rows in the same group.  \n",
    "\n",
    "# `sum` DF transformation\n",
    "Takes a column name (string) as the parameter. This is typically used after `groupBy` DF transformation, `sum` adds the content of the input column of all rows in the same group.\n",
    "\n",
    "# `count` DF transformation\n",
    "Returns the number of rows in the DataFrame.  When `count` is used after `groupBy`, it returns a DataFrame with a column called \"count\" that contains the total number of rows for each group generated by the `groupBy`."
   ]
  },
  {
   "cell_type": "code",
   "execution_count": 38,
   "metadata": {},
   "outputs": [],
   "source": [
    "Movie_RatingSum_DF = ratings_DF.groupBy(\"MovieID\").sum(\"Rating\")"
   ]
  },
  {
   "cell_type": "code",
   "execution_count": 39,
   "metadata": {},
   "outputs": [
    {
     "name": "stdout",
     "output_type": "stream",
     "text": [
      "+-------+-----------+\n",
      "|MovieID|sum(Rating)|\n",
      "+-------+-----------+\n",
      "|   1580|      696.0|\n",
      "|   2659|       12.0|\n",
      "|   3794|       17.0|\n",
      "|   3175|      228.0|\n",
      "+-------+-----------+\n",
      "only showing top 4 rows\n",
      "\n"
     ]
    }
   ],
   "source": [
    "Movie_RatingSum_DF.show(4)"
   ]
  },
  {
   "cell_type": "markdown",
   "metadata": {},
   "source": [
    "# Calculating the total number of reviews for each movies."
   ]
  },
  {
   "cell_type": "code",
   "execution_count": 40,
   "metadata": {},
   "outputs": [],
   "source": [
    "Movie_RatingCount_DF = ratings_DF.groupBy(col(\"MovieID\")).count()"
   ]
  },
  {
   "cell_type": "code",
   "execution_count": 41,
   "metadata": {},
   "outputs": [
    {
     "name": "stdout",
     "output_type": "stream",
     "text": [
      "+-------+-----+\n",
      "|MovieID|count|\n",
      "+-------+-----+\n",
      "|   1580|  190|\n",
      "|   2659|    3|\n",
      "|   3794|    5|\n",
      "|   3175|   65|\n",
      "+-------+-----+\n",
      "only showing top 4 rows\n",
      "\n"
     ]
    }
   ],
   "source": [
    "Movie_RatingCount_DF.show(4)"
   ]
  },
  {
   "cell_type": "markdown",
   "metadata": {},
   "source": [
    "# Join Transformation on Two DataFrames"
   ]
  },
  {
   "cell_type": "code",
   "execution_count": 42,
   "metadata": {},
   "outputs": [],
   "source": [
    "Movie_Rating_Sum_Count_DF = Movie_RatingSum_DF.join(Movie_RatingCount_DF, \"MovieID\", 'inner')"
   ]
  },
  {
   "cell_type": "code",
   "execution_count": 43,
   "metadata": {},
   "outputs": [
    {
     "name": "stdout",
     "output_type": "stream",
     "text": [
      "+-------+-----------+-----+\n",
      "|MovieID|sum(Rating)|count|\n",
      "+-------+-----------+-----+\n",
      "|   1580|      696.0|  190|\n",
      "|   2659|       12.0|    3|\n",
      "|   3794|       17.0|    5|\n",
      "|   3175|      228.0|   65|\n",
      "+-------+-----------+-----+\n",
      "only showing top 4 rows\n",
      "\n"
     ]
    }
   ],
   "source": [
    "Movie_Rating_Sum_Count_DF.show(4)"
   ]
  },
  {
   "cell_type": "code",
   "execution_count": 44,
   "metadata": {},
   "outputs": [],
   "source": [
    "Movie_Rating_Count_Avg_DF = Movie_Rating_Sum_Count_DF.withColumn(\"AvgRating\", (col(\"sum(Rating)\") / col(\"count\")) )"
   ]
  },
  {
   "cell_type": "code",
   "execution_count": 45,
   "metadata": {},
   "outputs": [
    {
     "name": "stdout",
     "output_type": "stream",
     "text": [
      "+-------+-----------+-----+------------------+\n",
      "|MovieID|sum(Rating)|count|         AvgRating|\n",
      "+-------+-----------+-----+------------------+\n",
      "|   1580|      696.0|  190| 3.663157894736842|\n",
      "|   2659|       12.0|    3|               4.0|\n",
      "|   3794|       17.0|    5|               3.4|\n",
      "|   3175|      228.0|   65|3.5076923076923077|\n",
      "+-------+-----------+-----+------------------+\n",
      "only showing top 4 rows\n",
      "\n"
     ]
    }
   ],
   "source": [
    "Movie_Rating_Count_Avg_DF.show(4)"
   ]
  },
  {
   "cell_type": "markdown",
   "metadata": {},
   "source": [
    "##  Next, we want to join the avg_rating_total_review_DF with moviesG2_DF"
   ]
  },
  {
   "cell_type": "code",
   "execution_count": 46,
   "metadata": {},
   "outputs": [],
   "source": [
    "joined_DF = Movie_Rating_Count_Avg_DF.join(moviesG2_DF,'MovieID', 'inner')"
   ]
  },
  {
   "cell_type": "code",
   "execution_count": 47,
   "metadata": {},
   "outputs": [
    {
     "name": "stdout",
     "output_type": "stream",
     "text": [
      "root\n",
      " |-- MovieID: integer (nullable = true)\n",
      " |-- MovieTitle: string (nullable = true)\n",
      " |-- Genres: string (nullable = true)\n",
      " |-- Genres_Array: array (nullable = true)\n",
      " |    |-- element: string (containsNull = false)\n",
      "\n"
     ]
    }
   ],
   "source": [
    "moviesG2_DF.printSchema()"
   ]
  },
  {
   "cell_type": "code",
   "execution_count": 48,
   "metadata": {},
   "outputs": [
    {
     "name": "stdout",
     "output_type": "stream",
     "text": [
      "root\n",
      " |-- MovieID: integer (nullable = true)\n",
      " |-- sum(Rating): double (nullable = true)\n",
      " |-- count: long (nullable = false)\n",
      " |-- AvgRating: double (nullable = true)\n",
      " |-- MovieTitle: string (nullable = true)\n",
      " |-- Genres: string (nullable = true)\n",
      " |-- Genres_Array: array (nullable = true)\n",
      " |    |-- element: string (containsNull = false)\n",
      "\n"
     ]
    }
   ],
   "source": [
    "joined_DF.printSchema()"
   ]
  },
  {
   "cell_type": "code",
   "execution_count": 49,
   "metadata": {},
   "outputs": [
    {
     "name": "stdout",
     "output_type": "stream",
     "text": [
      "+-------+-----------+-----+------------------+--------------------+--------------------+--------------------+\n",
      "|MovieID|sum(Rating)|count|         AvgRating|          MovieTitle|              Genres|        Genres_Array|\n",
      "+-------+-----------+-----+------------------+--------------------+--------------------+--------------------+\n",
      "|   1580|      696.0|  190| 3.663157894736842|Men in Black (a.k...|Action|Comedy|Sci-Fi|[Action, Comedy, ...|\n",
      "|   2659|       12.0|    3|               4.0|It Came from Holl...|  Comedy|Documentary|[Comedy, Document...|\n",
      "|   3794|       17.0|    5|               3.4| Chuck & Buck (2000)|        Comedy|Drama|     [Comedy, Drama]|\n",
      "|   3175|      228.0|   65|3.5076923076923077| Galaxy Quest (1999)|Adventure|Comedy|...|[Adventure, Comed...|\n",
      "+-------+-----------+-----+------------------+--------------------+--------------------+--------------------+\n",
      "only showing top 4 rows\n",
      "\n"
     ]
    }
   ],
   "source": [
    "joined_DF.show(4)"
   ]
  },
  {
   "cell_type": "markdown",
   "metadata": {},
   "source": [
    "# Filter DataFrame on an Array Column of DataFrame Using `array_contains`"
   ]
  },
  {
   "cell_type": "code",
   "execution_count": 50,
   "metadata": {},
   "outputs": [],
   "source": [
    "from pyspark.sql.functions import array_contains\n",
    "SelectGenreAvgRating_DF = joined_DF.filter(array_contains('Genres_Array', \\\n",
    "                                               \"Comedy\")).select(\"MovieID\",\"AvgRating\",\"count\",\"MovieTitle\")"
   ]
  },
  {
   "cell_type": "code",
   "execution_count": 51,
   "metadata": {},
   "outputs": [
    {
     "name": "stdout",
     "output_type": "stream",
     "text": [
      "+-------+------------------+-----+--------------------+\n",
      "|MovieID|         AvgRating|count|          MovieTitle|\n",
      "+-------+------------------+-----+--------------------+\n",
      "|   1580| 3.663157894736842|  190|Men in Black (a.k...|\n",
      "|   2659|               4.0|    3|It Came from Holl...|\n",
      "|   3794|               3.4|    5| Chuck & Buck (2000)|\n",
      "|   3175|3.5076923076923077|   65| Galaxy Quest (1999)|\n",
      "|    471| 3.877551020408163|   49|Hudsucker Proxy, ...|\n",
      "+-------+------------------+-----+--------------------+\n",
      "only showing top 5 rows\n",
      "\n"
     ]
    }
   ],
   "source": [
    "SelectGenreAvgRating_DF.show(5)"
   ]
  },
  {
   "cell_type": "code",
   "execution_count": 52,
   "metadata": {},
   "outputs": [
    {
     "data": {
      "text/plain": [
       "3307"
      ]
     },
     "execution_count": 52,
     "metadata": {},
     "output_type": "execute_result"
    }
   ],
   "source": [
    "SelectGenreAvgRating_DF.count()"
   ]
  },
  {
   "cell_type": "code",
   "execution_count": 53,
   "metadata": {},
   "outputs": [
    {
     "name": "stdout",
     "output_type": "stream",
     "text": [
      "+-------+------------------+------------------+------------------+--------------------+\n",
      "|summary|           MovieID|         AvgRating|             count|          MovieTitle|\n",
      "+-------+------------------+------------------+------------------+--------------------+\n",
      "|  count|              3307|              3307|              3307|                3307|\n",
      "|   mean|30277.501663138795| 3.190353163648426|11.498639250075597|                null|\n",
      "| stddev|  40111.1391405288|0.8910523473881353|23.795030821491128|                null|\n",
      "|    min|                 1|               0.5|                 1|'Hellboy': The Se...|\n",
      "|    max|            160567|               5.0|               341|À nous la liberté...|\n",
      "+-------+------------------+------------------+------------------+--------------------+\n",
      "\n"
     ]
    }
   ],
   "source": [
    "SelectGenreAvgRating_DF.describe().show()"
   ]
  },
  {
   "cell_type": "code",
   "execution_count": 54,
   "metadata": {},
   "outputs": [],
   "source": [
    "SortedSelectGenreAvgRating_DF = SelectGenreAvgRating_DF.orderBy('AvgRating', ascending=False)"
   ]
  },
  {
   "cell_type": "code",
   "execution_count": 55,
   "metadata": {},
   "outputs": [
    {
     "name": "stdout",
     "output_type": "stream",
     "text": [
      "+-------+---------+-----+--------------------+\n",
      "|MovieID|AvgRating|count|          MovieTitle|\n",
      "+-------+---------+-----+--------------------+\n",
      "|   4796|      5.0|    1|Grass Is Greener,...|\n",
      "| 140749|      5.0|    1| 29th and Gay (2005)|\n",
      "|  26501|      5.0|    1|    Choose Me (1984)|\n",
      "|  95313|      5.0|    1|Jack-Jack Attack ...|\n",
      "|  61250|      5.0|    1|House Bunny, The ...|\n",
      "|    183|      5.0|    1| Mute Witness (1994)|\n",
      "|    876|      5.0|    1|Supercop 2 (Proje...|\n",
      "|   8123|      5.0|    1|Sammy and Rosie G...|\n",
      "|  91690|      5.0|    1|Friends with Kids...|\n",
      "|   6342|      5.0|    1|    Trip, The (2002)|\n",
      "+-------+---------+-----+--------------------+\n",
      "only showing top 10 rows\n",
      "\n"
     ]
    }
   ],
   "source": [
    "SortedSelectGenreAvgRating_DF.show(10)"
   ]
  },
  {
   "cell_type": "markdown",
   "metadata": {},
   "source": [
    "### Use DataFrame method `where` or `filter` to find all movies (in your choice of genre) that have more than 10 reviews (change this to 100 for the cluster mode)."
   ]
  },
  {
   "cell_type": "code",
   "execution_count": 56,
   "metadata": {},
   "outputs": [],
   "source": [
    "SortedFilteredSelectGenreAvgRating_DF = SortedSelectGenreAvgRating_DF.where(col(\"count\") > 10)"
   ]
  },
  {
   "cell_type": "code",
   "execution_count": 57,
   "metadata": {},
   "outputs": [
    {
     "name": "stdout",
     "output_type": "stream",
     "text": [
      "+-------+-----------------+-----+--------------------+\n",
      "|MovieID|        AvgRating|count|          MovieTitle|\n",
      "+-------+-----------------+-----+--------------------+\n",
      "|   1948|4.458333333333333|   12|    Tom Jones (1963)|\n",
      "|    969|             4.42|   50|African Queen, Th...|\n",
      "|   3035|4.411764705882353|   17|Mister Roberts (1...|\n",
      "|   1066|4.409090909090909|   11|Shall We Dance (1...|\n",
      "|    905|             4.38|   25|It Happened One N...|\n",
      "+-------+-----------------+-----+--------------------+\n",
      "only showing top 5 rows\n",
      "\n"
     ]
    }
   ],
   "source": [
    "SortedFilteredSelectGenreAvgRating_DF.show(5)"
   ]
  },
  {
   "cell_type": "markdown",
   "metadata": {},
   "source": [
    "## Cluster mode tests with Comedy genre."
   ]
  },
  {
   "cell_type": "code",
   "execution_count": 58,
   "metadata": {},
   "outputs": [],
   "source": [
    "output_path = \"/storage/home/SortedFilteredComedyMovieAvgRating_local\"\n",
    "SortedFilteredSelectGenreAvgRating_DF.write.csv(output_path)"
   ]
  },
  {
   "cell_type": "code",
   "execution_count": 59,
   "metadata": {},
   "outputs": [],
   "source": [
    "ss.stop()"
   ]
  },
  {
   "cell_type": "markdown",
   "metadata": {},
   "source": [
    "- Choice of the genre for analysis \n",
    "\n",
    "     - Comedy\n",
    "     \n",
    "    _____\n",
    "\n",
    "- Top five movies in the genre?\n",
    "    - 1. Life Is Beautiful (La Vita è bella) (1997) \n",
    "    - 2. Pulp Fiction (1994)\n",
    "    - 3. Monty Python and the Holy Grail (1975)\n",
    "    - 4. Thin Man, The (1934)\n",
    "    - 5. Sting, The (1973)\n",
    "    \n",
    "    _____\n",
    "\n",
    "- The computation time in Cluster mode took: \n",
    "\n",
    "    - real \t 1m 10.355s\n",
    "\n",
    "\n"
   ]
  },
  {
   "cell_type": "code",
   "execution_count": null,
   "metadata": {},
   "outputs": [],
   "source": []
  },
  {
   "cell_type": "code",
   "execution_count": null,
   "metadata": {},
   "outputs": [],
   "source": []
  }
 ],
 "metadata": {
  "kernelspec": {
   "display_name": "Python 3",
   "language": "python",
   "name": "python3"
  },
  "language_info": {
   "codemirror_mode": {
    "name": "ipython",
    "version": 3
   },
   "file_extension": ".py",
   "mimetype": "text/x-python",
   "name": "python",
   "nbconvert_exporter": "python",
   "pygments_lexer": "ipython3",
   "version": "3.8.8"
  }
 },
 "nbformat": 4,
 "nbformat_minor": 4
}
